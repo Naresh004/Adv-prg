{
 "cells": [
  {
   "cell_type": "markdown",
   "metadata": {},
   "source": [
    "CSE-22171031304-NARESH"
   ]
  },
  {
   "cell_type": "code",
   "execution_count": 2,
   "metadata": {},
   "outputs": [
    {
     "name": "stdout",
     "output_type": "stream",
     "text": [
      "Please Enter Your Own String : AEIOU\n",
      "Vowels:  5\n",
      "Consonants:  0\n",
      "Special Characters:  0\n"
     ]
    }
   ],
   "source": [
    "##Q.1\n",
    "string = input(\"Please Enter Your Own String : \")\n",
    "string = string.lower()\n",
    "vowels = consonants = digits = special_chars = 0\n",
    "for i in string:\n",
    "    if( i>='a' and i<='z' ):\n",
    "        if( i=='a' or i=='e' or i=='i'or i=='o'or i=='u' ):\n",
    "            vowels += 1\n",
    "        else:\n",
    "                consonants += 1\n",
    "    elif( i.isdigit() ):\n",
    "            digits += 1\n",
    "    else:\n",
    "            special_chars += 1\n",
    "print( \"Vowels: \", vowels)    \n",
    "print( \"Consonants: \", consonants)\n",
    "print( \"Special Characters: \", special_chars)\n"
   ]
  },
  {
   "cell_type": "code",
   "execution_count": 2,
   "metadata": {},
   "outputs": [
    {
     "name": "stdout",
     "output_type": "stream",
     "text": [
      "enter stringaamnvaafgdkjaa\n",
      "3\n"
     ]
    }
   ],
   "source": [
    "##Q.2\n",
    "str=input(\"enter string\")\n",
    "count=str.count(\"aa\")\n",
    "print(count)"
   ]
  },
  {
   "cell_type": "code",
   "execution_count": 1,
   "metadata": {},
   "outputs": [
    {
     "name": "stdout",
     "output_type": "stream",
     "text": [
      "enter the string((((()()()))))()\n",
      "8\n"
     ]
    }
   ],
   "source": [
    "##Q.3\n",
    "str=input(\"enter the string\")\n",
    "c1=0\n",
    "c2=0\n",
    "for i in range(0,len(str)):\n",
    "  if(str[i]=='('):\n",
    "    c1=c1+1\n",
    "  else:\n",
    "    c2=c2+1\n",
    "if(c1==c2):\n",
    "  print(c1)"
   ]
  },
  {
   "cell_type": "code",
   "execution_count": 2,
   "metadata": {},
   "outputs": [
    {
     "name": "stdout",
     "output_type": "stream",
     "text": [
      " Please Enter the Maximum Value : 112\n",
      "20\n"
     ]
    }
   ],
   "source": [
    "##Q.4\n",
    "#palindome count in given range\n",
    "maximum = int(input(\" Please Enter the Maximum Value : \"))\n",
    "count=0\n",
    "for num in range(1, maximum + 1):\n",
    "    temp = num\n",
    "    reverse = 0\n",
    "    \n",
    "    while(temp > 0):\n",
    "        Reminder = temp % 10\n",
    "        reverse = (reverse * 10) + Reminder\n",
    "        temp = temp //10\n",
    "\n",
    "    if(num == reverse):\n",
    "        count=count+1\n",
    "print(count)"
   ]
  },
  {
   "cell_type": "code",
   "execution_count": null,
   "metadata": {},
   "outputs": [
    {
     "name": "stdout",
     "output_type": "stream",
     "text": [
      "enter n121\n"
     ]
    }
   ],
   "source": [
    "##Q.5\n",
    "n=int(input(\"enter n\"))\n",
    "while True:\n",
    "  temp=n\n",
    "  rev=0\n",
    "  while(temp>0):\n",
    "    rem=temp%10\n",
    "    rev=(rev*10)+rem\n",
    "    temp=temp//10\n",
    "    if(n==rev):\n",
    "      print(rev)\n",
    "      break\n",
    "    else:\n",
    "      n=n+rev"
   ]
  },
  {
   "cell_type": "code",
   "execution_count": 14,
   "metadata": {},
   "outputs": [
    {
     "name": "stdout",
     "output_type": "stream",
     "text": [
      "p u b o i f "
     ]
    }
   ],
   "source": [
    "##Q.6\n",
    "def replaceCharacterType(str): \n",
    "    vowel = False\n",
    "    consonant = False\n",
    "    for i in range(0, len(str)):           \n",
    "        ch = str[i]    \n",
    "        if ( (ch >= 'a' and ch <= 'z') or \n",
    "             (ch >= 'A' and ch <= 'Z') ):  \n",
    "            if(isVowel(ch)):\n",
    "                vowel = True\n",
    "            else:\n",
    "                consonant = True\n",
    "            if (vowel == True): \n",
    "                print(chr(ord(ch) + 1), end =\" \")\n",
    "                vowel = False\n",
    "            else: \n",
    "                i=1\n",
    "                while True:\n",
    "                    tmp = chr(ord(ch)+i)\n",
    "                    if (isVowel(tmp)):\n",
    "                        print(tmp, end =\" \")\n",
    "                        break\n",
    "                    else:\n",
    "                        i +=1\n",
    "\n",
    "def isVowel(ch):\n",
    "    ch = ch.lower()   \n",
    "    if (ch == 'a' or ch == 'e' or ch == 'i' \n",
    "            or ch == 'o' or ch == 'u'):\n",
    "                return True\n",
    "    else:\n",
    "        return False\n",
    "str = \"orange\"\n",
    "replaceCharacterType(str)\n"
   ]
  },
  {
   "cell_type": "code",
   "execution_count": 13,
   "metadata": {},
   "outputs": [
    {
     "name": "stdout",
     "output_type": "stream",
     "text": [
      "enterABCD123\n",
      "6\n"
     ]
    }
   ],
   "source": [
    "##Q.7\n",
    "s=0\n",
    "a=input(\"enter\")\n",
    "for i in a:\n",
    "  if i.isdigit():\n",
    "    s=s+int(i)\n",
    "print(s)"
   ]
  },
  {
   "cell_type": "code",
   "execution_count": 18,
   "metadata": {},
   "outputs": [
    {
     "name": "stdout",
     "output_type": "stream",
     "text": [
      "Enter Score: 0.5\n",
      "F\n"
     ]
    }
   ],
   "source": [
    "##Q.8\n",
    "score = input(\"Enter Score: \")\n",
    "s =  float(score)\n",
    "x = 'Error'\n",
    "if s >= 0.9:\n",
    "\tx = 'A'\n",
    "elif s >=0.8:\n",
    "\tx='B'\n",
    "elif s >=0.7:\n",
    "\tx='C'\n",
    "elif s >= 0.6:\n",
    "\tx='D'\n",
    "elif s < .6:\n",
    "\tx ='F'\n",
    "else:\n",
    "\tx =\"Out of Range\"\n",
    "print (x)\n"
   ]
  },
  {
   "cell_type": "code",
   "execution_count": 17,
   "metadata": {},
   "outputs": [
    {
     "name": "stdout",
     "output_type": "stream",
     "text": [
      "fizzbuzz\n",
      "1\n",
      "2\n",
      "fizz\n",
      "4\n",
      "buzz\n",
      "fizz\n",
      "7\n",
      "8\n",
      "fizz\n",
      "buzz\n",
      "11\n",
      "fizz\n",
      "13\n",
      "14\n",
      "fizzbuzz\n",
      "16\n",
      "17\n",
      "fizz\n",
      "19\n",
      "buzz\n",
      "fizz\n",
      "22\n",
      "23\n",
      "fizz\n",
      "buzz\n",
      "26\n",
      "fizz\n",
      "28\n",
      "29\n",
      "fizzbuzz\n",
      "31\n",
      "32\n",
      "fizz\n",
      "34\n",
      "buzz\n",
      "fizz\n",
      "37\n",
      "38\n",
      "fizz\n",
      "buzz\n",
      "41\n",
      "fizz\n",
      "43\n",
      "44\n",
      "fizzbuzz\n",
      "46\n",
      "47\n",
      "fizz\n",
      "49\n",
      "buzz\n"
     ]
    }
   ],
   "source": [
    "##Q.9\n",
    "for fizzbuzz in range(0,51):\n",
    "    if fizzbuzz % 3 == 0 and fizzbuzz % 5 == 0:\n",
    "        print(\"fizzbuzz\")\n",
    "        continue\n",
    "    elif fizzbuzz % 3 == 0:\n",
    "        print(\"fizz\")\n",
    "        continue\n",
    "    elif fizzbuzz % 5 == 0:\n",
    "        print(\"buzz\")\n",
    "        continue\n",
    "    print(fizzbuzz)"
   ]
  },
  {
   "cell_type": "code",
   "execution_count": 15,
   "metadata": {},
   "outputs": [
    {
     "name": "stdout",
     "output_type": "stream",
     "text": [
      "Input first number: 5\n",
      "Input second number: 2\n",
      "Input third number: 1\n",
      "The median is 2\n"
     ]
    }
   ],
   "source": [
    "##Q.10\n",
    "a = int(input(\"Input first number: \"))\n",
    "b = int(input(\"Input second number: \"))\n",
    "c = int(input(\"Input third number: \"))\n",
    "if a > b:\n",
    "    if a < c:\n",
    "        median = a\n",
    "    elif b > c:\n",
    "        median = b\n",
    "    else:\n",
    "        median = c\n",
    "else:\n",
    "    if a > c:\n",
    "        median = a\n",
    "    elif b < c:\n",
    "        median = b\n",
    "    else:\n",
    "        median = c\n",
    "\n",
    "print(\"The median is\", median)"
   ]
  },
  {
   "cell_type": "code",
   "execution_count": null,
   "metadata": {},
   "outputs": [],
   "source": []
  }
 ],
 "metadata": {
  "kernelspec": {
   "display_name": "Python 3",
   "language": "python",
   "name": "python3"
  },
  "language_info": {
   "codemirror_mode": {
    "name": "ipython",
    "version": 3
   },
   "file_extension": ".py",
   "mimetype": "text/x-python",
   "name": "python",
   "nbconvert_exporter": "python",
   "pygments_lexer": "ipython3",
   "version": "3.7.3"
  }
 },
 "nbformat": 4,
 "nbformat_minor": 2
}
